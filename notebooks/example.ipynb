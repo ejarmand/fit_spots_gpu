{
 "cells": [
  {
   "cell_type": "code",
   "execution_count": null,
   "metadata": {},
   "outputs": [],
   "source": [
    "from fit_spots_gpu import SpotFitter\n",
    "from fit_spots_gpu.image_load import read_im, load_image_dir\n",
    "import numpy as np\n",
    "import os\n",
    "from tqdm import tqdm # not a package requirement provides progress bar"
   ]
  },
  {
   "cell_type": "code",
   "execution_count": null,
   "metadata": {},
   "outputs": [],
   "source": [
    "analysis_folder = './data'\n",
    "img_zarr_files = load_image_dir(expt_path)\n",
    "color_channels = np.arange(3)\n",
    "imsize = (50, 3000, 3000)"
   ]
  },
  {
   "cell_type": "code",
   "execution_count": null,
   "metadata": {},
   "outputs": [],
   "source": [
    "fitter= SpotFitter(imsize)\n",
    "zarray = None\n",
    "for hybe, fov in tqdm (img_zarr_files):\n",
    "    in_file = analysis_folder+ os.sep +hybe + os.sep +fov\n",
    "    loaded = False\n",
    "    for ch in color_channels:\n",
    "        save_file = analysis_folder+os.sep+fov.split('.')[0]+'--'+hybe+'_fits_icol'+str(icol)+'.npz'\n",
    "        if save_file not in os.listdir(analysis_folder+os.sep+hybe):\n",
    "            if not loaded:\n",
    "                zarry, sz, sx, sy = read_im(in_file)\n",
    "                loaded = True\n",
    "            im = np.array(zarray[ch], dtype=np.float32)            \n",
    "            Xh = fitter.fit(hybe, fov, ch)\n",
    "            np.savez_compressed(save_file, Xh=Xh)"
   ]
  }
 ],
 "metadata": {
  "language_info": {
   "name": "python"
  }
 },
 "nbformat": 4,
 "nbformat_minor": 2
}
